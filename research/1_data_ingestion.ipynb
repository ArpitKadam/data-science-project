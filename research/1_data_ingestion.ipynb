{
 "cells": [
  {
   "cell_type": "code",
   "execution_count": 2,
   "metadata": {},
   "outputs": [
    {
     "data": {
      "text/plain": [
       "'c:\\\\Users\\\\Arpit Kadam\\\\Desktop\\\\DataScienceProject\\\\data-science-project\\\\research'"
      ]
     },
     "execution_count": 2,
     "metadata": {},
     "output_type": "execute_result"
    }
   ],
   "source": [
    "pwd"
   ]
  },
  {
   "cell_type": "code",
   "execution_count": 3,
   "metadata": {},
   "outputs": [],
   "source": [
    "os.chdir(\"../\")"
   ]
  },
  {
   "cell_type": "code",
   "execution_count": 4,
   "metadata": {},
   "outputs": [
    {
     "data": {
      "text/plain": [
       "'c:\\\\Users\\\\Arpit Kadam\\\\Desktop\\\\DataScienceProject\\\\data-science-project'"
      ]
     },
     "execution_count": 4,
     "metadata": {},
     "output_type": "execute_result"
    }
   ],
   "source": [
    "pwd"
   ]
  },
  {
   "cell_type": "code",
   "execution_count": 45,
   "metadata": {},
   "outputs": [
    {
     "name": "stdout",
     "output_type": "stream",
     "text": [
      "[2024-12-26 01:19:22,905: INFO: common: Yaml file: config\\config.yaml read successfully]\n",
      "Debug Config: {'artifacts': {'artifacts_root': './artifacts'}, 'data_ingestion': {'root_dir': './artifacts/data_ingestion', 'source_url': 'https://github.com/krishnaik06/datasets/raw/refs/heads/main/winequality-data.zip', 'local_data': './artifacts/data_ingestion/data.zip', 'unzip_dir': './artifacts/data_ingestion'}}\n",
      "[2024-12-26 01:19:22,908: INFO: common: Yaml file: params.yaml read successfully]\n",
      "[2024-12-26 01:19:22,910: INFO: common: Yaml file: schema.yaml read successfully]\n",
      "[2024-12-26 01:19:22,912: INFO: common: Created directory at: ./artifacts]\n",
      "[2024-12-26 01:19:22,915: INFO: common: Created directory at: ./artifacts/data_ingestion]\n",
      "[2024-12-26 01:19:24,450: INFO: 3162971701: artifacts\\data_ingestion\\data.zip downloaded successfully.\n",
      "Headers: Connection: close\n",
      "Content-Length: 23329\n",
      "Cache-Control: max-age=300\n",
      "Content-Security-Policy: default-src 'none'; style-src 'unsafe-inline'; sandbox\n",
      "Content-Type: application/zip\n",
      "ETag: \"c69888a4ae59bc5a893392785a938ccd4937981c06ba8a9d6a21aa52b4ab5b6e\"\n",
      "Strict-Transport-Security: max-age=31536000\n",
      "X-Content-Type-Options: nosniff\n",
      "X-Frame-Options: deny\n",
      "X-XSS-Protection: 1; mode=block\n",
      "X-GitHub-Request-Id: CB26:08F2:12CB41:179D1F:676C61C3\n",
      "Accept-Ranges: bytes\n",
      "Date: Wed, 25 Dec 2024 19:49:24 GMT\n",
      "Via: 1.1 varnish\n",
      "X-Served-By: cache-bom4723-BOM\n",
      "X-Cache: MISS\n",
      "X-Cache-Hits: 0\n",
      "X-Timer: S1735156164.871593,VS0,VE441\n",
      "Vary: Authorization,Accept-Encoding,Origin\n",
      "Access-Control-Allow-Origin: *\n",
      "Cross-Origin-Resource-Policy: cross-origin\n",
      "X-Fastly-Request-ID: 22eb23c4cfda7b275f8887f1ac79796c20046dbf\n",
      "Expires: Wed, 25 Dec 2024 19:54:24 GMT\n",
      "Source-Age: 0\n",
      "\n",
      "]\n",
      "[2024-12-26 01:19:24,475: INFO: 3162971701: Extracted files to artifacts\\data_ingestion]\n"
     ]
    }
   ],
   "source": [
    "from dataclasses import dataclass\n",
    "from pathlib import Path\n",
    "import os\n",
    "import urllib.request as request\n",
    "import zipfile\n",
    "from src.datascienceproject.constants import *\n",
    "from src.datascienceproject.utils.common import read_yaml, create_directories\n",
    "import logging\n",
    "\n",
    "# Logger setup\n",
    "logger = logging.getLogger(\"DataIngestion\")\n",
    "\n",
    "@dataclass\n",
    "class DataIngestionConfig:\n",
    "    root_dir: Path\n",
    "    source_URL: str\n",
    "    local_data_file: Path\n",
    "    unzip_dir: Path\n",
    "\n",
    "class ConfigurationManager:\n",
    "    def __init__(self, \n",
    "                 config_filepath=CONFIG_FILE_PATH, \n",
    "                 params_filepath=PARAMS_FILE_PATH, \n",
    "                 schema_filepath=SCHEMA_FILE_PATH):\n",
    "        self.config = read_yaml(config_filepath)\n",
    "        print(\"Debug Config:\", self.config)\n",
    "        self.params = read_yaml(params_filepath)\n",
    "        self.schema = read_yaml(schema_filepath)\n",
    "        \n",
    "        # Validate configuration structure\n",
    "        if \"artifacts\" not in self.config or \"artifacts_root\" not in self.config[\"artifacts\"]:\n",
    "            raise KeyError(\"'artifacts_root' is missing in the configuration.\")\n",
    "\n",
    "        # Create root directory\n",
    "        create_directories([self.config[\"artifacts\"][\"artifacts_root\"]])\n",
    "\n",
    "    def get_data_ingestion_config(self) -> DataIngestionConfig:\n",
    "        config = self.config[\"data_ingestion\"]  # Corrected access\n",
    "        create_directories([config[\"root_dir\"]])\n",
    "\n",
    "        # Create DataIngestionConfig object\n",
    "        data_ingestion_config = DataIngestionConfig(\n",
    "            root_dir=Path(config[\"root_dir\"]),\n",
    "            source_URL=config[\"source_url\"],\n",
    "            local_data_file=Path(config[\"local_data\"]),\n",
    "            unzip_dir=Path(config[\"unzip_dir\"])\n",
    "        )\n",
    "        return data_ingestion_config\n",
    "\n",
    "class DataIngestion:\n",
    "    def __init__(self, config: DataIngestionConfig):\n",
    "        self.config = config\n",
    "\n",
    "    def download_file(self):\n",
    "        if not os.path.exists(self.config.local_data_file):\n",
    "            filename, headers = request.urlretrieve(\n",
    "                url=self.config.source_URL, \n",
    "                filename=self.config.local_data_file\n",
    "            )\n",
    "            logger.info(f\"{filename} downloaded successfully.\\nHeaders: {headers}\")\n",
    "        else:\n",
    "            logger.info(f\"File already exists at {self.config.local_data_file}\")\n",
    "\n",
    "    def extract_zip_file(self):\n",
    "        unzip_path = self.config.unzip_dir\n",
    "        os.makedirs(unzip_path, exist_ok=True)\n",
    "        with zipfile.ZipFile(self.config.local_data_file, 'r') as zip_ref:\n",
    "            zip_ref.extractall(unzip_path)\n",
    "        logger.info(f\"Extracted files to {unzip_path}\")\n",
    "\n",
    "# Main script\n",
    "try:\n",
    "    config = ConfigurationManager()\n",
    "    data_ingestion_config = config.get_data_ingestion_config()\n",
    "    data_ingestion = DataIngestion(config=data_ingestion_config)\n",
    "    data_ingestion.download_file()\n",
    "    data_ingestion.extract_zip_file()\n",
    "except KeyError as e:\n",
    "    print(f\"Configuration key error: {e}\")\n",
    "except Exception as e:\n",
    "    raise e\n"
   ]
  }
 ],
 "metadata": {
  "kernelspec": {
   "display_name": "myenv",
   "language": "python",
   "name": "python3"
  },
  "language_info": {
   "codemirror_mode": {
    "name": "ipython",
    "version": 3
   },
   "file_extension": ".py",
   "mimetype": "text/x-python",
   "name": "python",
   "nbconvert_exporter": "python",
   "pygments_lexer": "ipython3",
   "version": "3.10.11"
  }
 },
 "nbformat": 4,
 "nbformat_minor": 2
}
